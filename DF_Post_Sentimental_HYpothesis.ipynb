{
 "cells": [
  {
   "cell_type": "code",
   "execution_count": 1,
   "id": "4eae5da8",
   "metadata": {},
   "outputs": [
    {
     "name": "stderr",
     "output_type": "stream",
     "text": [
      "C:\\Users\\LENOVO\\AppData\\Roaming\\Python\\Python39\\site-packages\\pandas\\core\\computation\\expressions.py:21: UserWarning: Pandas requires version '2.8.4' or newer of 'numexpr' (version '2.8.3' currently installed).\n",
      "  from pandas.core.computation.check import NUMEXPR_INSTALLED\n",
      "C:\\Users\\LENOVO\\AppData\\Roaming\\Python\\Python39\\site-packages\\pandas\\core\\arrays\\masked.py:60: UserWarning: Pandas requires version '1.3.6' or newer of 'bottleneck' (version '1.3.5' currently installed).\n",
      "  from pandas.core import (\n",
      "C:\\Users\\LENOVO\\AppData\\Local\\Temp\\ipykernel_12336\\4080736814.py:1: DeprecationWarning: \n",
      "Pyarrow will become a required dependency of pandas in the next major release of pandas (pandas 3.0),\n",
      "(to allow more performant data types, such as the Arrow string type, and better interoperability with other libraries)\n",
      "but was not found to be installed on your system.\n",
      "If this would cause problems for you,\n",
      "please provide us feedback at https://github.com/pandas-dev/pandas/issues/54466\n",
      "        \n",
      "  import pandas as pd\n"
     ]
    }
   ],
   "source": [
    "import pandas as pd"
   ]
  },
  {
   "cell_type": "code",
   "execution_count": 23,
   "id": "6850274a",
   "metadata": {},
   "outputs": [],
   "source": [
    "df_post=pd.read_excel('D:\\\\MIT PGDAML\\\\Neural Network\\\\Project\\\\Filtered_News_ET - NextDay.xlsx')"
   ]
  },
  {
   "cell_type": "code",
   "execution_count": 21,
   "id": "7608d2ce",
   "metadata": {},
   "outputs": [
    {
     "data": {
      "text/html": [
       "<div>\n",
       "<style scoped>\n",
       "    .dataframe tbody tr th:only-of-type {\n",
       "        vertical-align: middle;\n",
       "    }\n",
       "\n",
       "    .dataframe tbody tr th {\n",
       "        vertical-align: top;\n",
       "    }\n",
       "\n",
       "    .dataframe thead th {\n",
       "        text-align: right;\n",
       "    }\n",
       "</style>\n",
       "<table border=\"1\" class=\"dataframe\">\n",
       "  <thead>\n",
       "    <tr style=\"text-align: right;\">\n",
       "      <th></th>\n",
       "      <th>News</th>\n",
       "      <th>filtered</th>\n",
       "      <th>Date</th>\n",
       "      <th>Entity</th>\n",
       "      <th>Symbol</th>\n",
       "      <th>Open</th>\n",
       "      <th>Close</th>\n",
       "      <th>Perc_Change</th>\n",
       "      <th>Sentiment</th>\n",
       "    </tr>\n",
       "  </thead>\n",
       "  <tbody>\n",
       "    <tr>\n",
       "      <th>0</th>\n",
       "      <td>Technical Breakout Stocks: How to trade HEG, 3...</td>\n",
       "      <td>Technical Breakout Stocks: How to trade HEG, 3...</td>\n",
       "      <td>2023-12-27</td>\n",
       "      <td>3M India</td>\n",
       "      <td>3MINDIA</td>\n",
       "      <td>31127.000000</td>\n",
       "      <td>31447.599609</td>\n",
       "      <td>1.029973</td>\n",
       "      <td>NaN</td>\n",
       "    </tr>\n",
       "    <tr>\n",
       "      <th>1</th>\n",
       "      <td>Aarti Industries, HDFC AMC among 11 stocks tha...</td>\n",
       "      <td>Aarti Industries, HDFC AMC among 11 stocks tha...</td>\n",
       "      <td>2020-07-01</td>\n",
       "      <td>Aarti Industries</td>\n",
       "      <td>AARTIIND</td>\n",
       "      <td>466.500000</td>\n",
       "      <td>465.700012</td>\n",
       "      <td>-0.171487</td>\n",
       "      <td>NaN</td>\n",
       "    </tr>\n",
       "    <tr>\n",
       "      <th>2</th>\n",
       "      <td>Hot Stocks: Brokerage views on Wipro, Federal ...</td>\n",
       "      <td>Hot Stocks: Brokerage views on Wipro, Federal ...</td>\n",
       "      <td>2023-07-14</td>\n",
       "      <td>Aarti Industries</td>\n",
       "      <td>AARTIIND</td>\n",
       "      <td>456.100006</td>\n",
       "      <td>448.299988</td>\n",
       "      <td>-1.710155</td>\n",
       "      <td>NaN</td>\n",
       "    </tr>\n",
       "    <tr>\n",
       "      <th>3</th>\n",
       "      <td>Hot Stocks: Brokerages on Tata Communication, ...</td>\n",
       "      <td>Hot Stocks: Brokerages on Tata Communication, ...</td>\n",
       "      <td>2023-07-21</td>\n",
       "      <td>ABB India</td>\n",
       "      <td>ABB</td>\n",
       "      <td>4500.000000</td>\n",
       "      <td>4204.000000</td>\n",
       "      <td>-6.577778</td>\n",
       "      <td>NaN</td>\n",
       "    </tr>\n",
       "    <tr>\n",
       "      <th>4</th>\n",
       "      <td>HCL Tech, ABB India among 6 stocks to trade ex...</td>\n",
       "      <td>HCL Tech, ABB India among 6 stocks to trade ex...</td>\n",
       "      <td>2023-04-23</td>\n",
       "      <td>ABB India</td>\n",
       "      <td>ABB</td>\n",
       "      <td>3164.699951</td>\n",
       "      <td>3217.399902</td>\n",
       "      <td>1.665243</td>\n",
       "      <td>NaN</td>\n",
       "    </tr>\n",
       "    <tr>\n",
       "      <th>...</th>\n",
       "      <td>...</td>\n",
       "      <td>...</td>\n",
       "      <td>...</td>\n",
       "      <td>...</td>\n",
       "      <td>...</td>\n",
       "      <td>...</td>\n",
       "      <td>...</td>\n",
       "      <td>...</td>\n",
       "      <td>...</td>\n",
       "    </tr>\n",
       "    <tr>\n",
       "      <th>13165</th>\n",
       "      <td>Zydus Lifesciences, Poly Medicure among 10 sto...</td>\n",
       "      <td>Zydus Lifesciences, Poly Medicure among 10 sto...</td>\n",
       "      <td>2023-09-14</td>\n",
       "      <td>Zydus Lifesciences</td>\n",
       "      <td>ZYDUSLIFE</td>\n",
       "      <td>625.150024</td>\n",
       "      <td>643.250000</td>\n",
       "      <td>2.895301</td>\n",
       "      <td>NaN</td>\n",
       "    </tr>\n",
       "    <tr>\n",
       "      <th>13166</th>\n",
       "      <td>Technical breakout: SBI, Zydus Wellness, 5 oth...</td>\n",
       "      <td>Technical breakout: SBI, Zydus Wellness, 5 oth...</td>\n",
       "      <td>2023-08-09</td>\n",
       "      <td>Zydus Wellness</td>\n",
       "      <td>ZYDUSWELL</td>\n",
       "      <td>1482.050049</td>\n",
       "      <td>1515.750000</td>\n",
       "      <td>2.273874</td>\n",
       "      <td>NaN</td>\n",
       "    </tr>\n",
       "    <tr>\n",
       "      <th>13167</th>\n",
       "      <td>Stock Radar: Bullish crossover on RSI makes Zy...</td>\n",
       "      <td>Stock Radar: Bullish crossover on RSI makes Zy...</td>\n",
       "      <td>2022-10-25</td>\n",
       "      <td>Zydus Wellness</td>\n",
       "      <td>ZYDUSWELL</td>\n",
       "      <td>1729.000000</td>\n",
       "      <td>1734.300049</td>\n",
       "      <td>0.306538</td>\n",
       "      <td>NaN</td>\n",
       "    </tr>\n",
       "    <tr>\n",
       "      <th>13168</th>\n",
       "      <td>Zydus Wellness promoters' stake hike point to ...</td>\n",
       "      <td>Zydus Wellness promoters' stake hike point to ...</td>\n",
       "      <td>2023-03-31</td>\n",
       "      <td>Zydus Wellness</td>\n",
       "      <td>ZYDUSWELL</td>\n",
       "      <td>1560.349976</td>\n",
       "      <td>1554.500000</td>\n",
       "      <td>-0.374914</td>\n",
       "      <td>NaN</td>\n",
       "    </tr>\n",
       "    <tr>\n",
       "      <th>13169</th>\n",
       "      <td>Voltas, Zydus Wellness, 5 other stocks surpass...</td>\n",
       "      <td>Voltas, Zydus Wellness, 5 other stocks surpass...</td>\n",
       "      <td>2023-10-27</td>\n",
       "      <td>Zydus Wellness</td>\n",
       "      <td>ZYDUSWELL</td>\n",
       "      <td>1500.000000</td>\n",
       "      <td>1518.000000</td>\n",
       "      <td>1.200000</td>\n",
       "      <td>NaN</td>\n",
       "    </tr>\n",
       "  </tbody>\n",
       "</table>\n",
       "<p>13170 rows × 9 columns</p>\n",
       "</div>"
      ],
      "text/plain": [
       "                                                    News  \\\n",
       "0      Technical Breakout Stocks: How to trade HEG, 3...   \n",
       "1      Aarti Industries, HDFC AMC among 11 stocks tha...   \n",
       "2      Hot Stocks: Brokerage views on Wipro, Federal ...   \n",
       "3      Hot Stocks: Brokerages on Tata Communication, ...   \n",
       "4      HCL Tech, ABB India among 6 stocks to trade ex...   \n",
       "...                                                  ...   \n",
       "13165  Zydus Lifesciences, Poly Medicure among 10 sto...   \n",
       "13166  Technical breakout: SBI, Zydus Wellness, 5 oth...   \n",
       "13167  Stock Radar: Bullish crossover on RSI makes Zy...   \n",
       "13168  Zydus Wellness promoters' stake hike point to ...   \n",
       "13169  Voltas, Zydus Wellness, 5 other stocks surpass...   \n",
       "\n",
       "                                                filtered        Date  \\\n",
       "0      Technical Breakout Stocks: How to trade HEG, 3...  2023-12-27   \n",
       "1      Aarti Industries, HDFC AMC among 11 stocks tha...  2020-07-01   \n",
       "2      Hot Stocks: Brokerage views on Wipro, Federal ...  2023-07-14   \n",
       "3      Hot Stocks: Brokerages on Tata Communication, ...  2023-07-21   \n",
       "4      HCL Tech, ABB India among 6 stocks to trade ex...  2023-04-23   \n",
       "...                                                  ...         ...   \n",
       "13165  Zydus Lifesciences, Poly Medicure among 10 sto...  2023-09-14   \n",
       "13166  Technical breakout: SBI, Zydus Wellness, 5 oth...  2023-08-09   \n",
       "13167  Stock Radar: Bullish crossover on RSI makes Zy...  2022-10-25   \n",
       "13168  Zydus Wellness promoters' stake hike point to ...  2023-03-31   \n",
       "13169  Voltas, Zydus Wellness, 5 other stocks surpass...  2023-10-27   \n",
       "\n",
       "                   Entity     Symbol          Open         Close  Perc_Change  \\\n",
       "0                3M India    3MINDIA  31127.000000  31447.599609     1.029973   \n",
       "1        Aarti Industries   AARTIIND    466.500000    465.700012    -0.171487   \n",
       "2        Aarti Industries   AARTIIND    456.100006    448.299988    -1.710155   \n",
       "3               ABB India        ABB   4500.000000   4204.000000    -6.577778   \n",
       "4               ABB India        ABB   3164.699951   3217.399902     1.665243   \n",
       "...                   ...        ...           ...           ...          ...   \n",
       "13165  Zydus Lifesciences  ZYDUSLIFE    625.150024    643.250000     2.895301   \n",
       "13166      Zydus Wellness  ZYDUSWELL   1482.050049   1515.750000     2.273874   \n",
       "13167      Zydus Wellness  ZYDUSWELL   1729.000000   1734.300049     0.306538   \n",
       "13168      Zydus Wellness  ZYDUSWELL   1560.349976   1554.500000    -0.374914   \n",
       "13169      Zydus Wellness  ZYDUSWELL   1500.000000   1518.000000     1.200000   \n",
       "\n",
       "       Sentiment  \n",
       "0            NaN  \n",
       "1            NaN  \n",
       "2            NaN  \n",
       "3            NaN  \n",
       "4            NaN  \n",
       "...          ...  \n",
       "13165        NaN  \n",
       "13166        NaN  \n",
       "13167        NaN  \n",
       "13168        NaN  \n",
       "13169        NaN  \n",
       "\n",
       "[13170 rows x 9 columns]"
      ]
     },
     "execution_count": 21,
     "metadata": {},
     "output_type": "execute_result"
    }
   ],
   "source": [
    "df_post"
   ]
  },
  {
   "cell_type": "code",
   "execution_count": 8,
   "id": "01d93861",
   "metadata": {},
   "outputs": [],
   "source": [
    "import warnings\n",
    "warnings.filterwarnings('ignore')"
   ]
  },
  {
   "cell_type": "code",
   "execution_count": 9,
   "id": "05fc08e6",
   "metadata": {},
   "outputs": [],
   "source": [
    "from transformers import pipeline"
   ]
  },
  {
   "cell_type": "code",
   "execution_count": 10,
   "id": "654b28cc",
   "metadata": {},
   "outputs": [
    {
     "name": "stderr",
     "output_type": "stream",
     "text": [
      "Some weights of the PyTorch model were not used when initializing the TF 2.0 model TFRobertaForSequenceClassification: ['roberta.embeddings.position_ids']\n",
      "- This IS expected if you are initializing TFRobertaForSequenceClassification from a PyTorch model trained on another task or with another architecture (e.g. initializing a TFBertForSequenceClassification model from a BertForPreTraining model).\n",
      "- This IS NOT expected if you are initializing TFRobertaForSequenceClassification from a PyTorch model that you expect to be exactly identical (e.g. initializing a TFBertForSequenceClassification model from a BertForSequenceClassification model).\n",
      "All the weights of TFRobertaForSequenceClassification were initialized from the PyTorch model.\n",
      "If your task is similar to the task the model of the checkpoint was trained on, you can already use TFRobertaForSequenceClassification for predictions without further training.\n"
     ]
    }
   ],
   "source": [
    "model=pipeline('sentiment-analysis', model='mrm8488/distilroberta-finetuned-financial-news-sentiment-analysis')"
   ]
  },
  {
   "cell_type": "code",
   "execution_count": 24,
   "id": "7fd429d2",
   "metadata": {},
   "outputs": [
    {
     "data": {
      "text/plain": [
       "filtered\n",
       "False    13170\n",
       "Name: count, dtype: int64"
      ]
     },
     "execution_count": 24,
     "metadata": {},
     "output_type": "execute_result"
    }
   ],
   "source": [
    "df_post['filtered'].isna().value_counts()"
   ]
  },
  {
   "cell_type": "code",
   "execution_count": 26,
   "id": "07e5d457",
   "metadata": {},
   "outputs": [
    {
     "name": "stdout",
     "output_type": "stream",
     "text": [
      "<class 'pandas.core.series.Series'>\n",
      "RangeIndex: 13170 entries, 0 to 13169\n",
      "Series name: filtered\n",
      "Non-Null Count  Dtype \n",
      "--------------  ----- \n",
      "13170 non-null  object\n",
      "dtypes: object(1)\n",
      "memory usage: 103.0+ KB\n"
     ]
    }
   ],
   "source": [
    "df_post['filtered'].info()"
   ]
  },
  {
   "cell_type": "code",
   "execution_count": 45,
   "id": "05b78ac0",
   "metadata": {},
   "outputs": [],
   "source": [
    "import numpy as np\n",
    "\n",
    "# Define a function to batch process the sentiment predictions\n",
    "def batch_predict_sentiment(texts, model, batch_size=32):\n",
    "    num_batches = len(texts) // batch_size + (len(texts) % batch_size != 0)\n",
    "    sentiment_labels = []\n",
    "    for i in range(num_batches):\n",
    "        batch_texts = texts[i * batch_size: (i + 1) * batch_size]\n",
    "        batch_predictions = [model(text)[0]['label'] for text in batch_texts]\n",
    "        sentiment_labels.extend(batch_predictions)\n",
    "    return sentiment_labels\n",
    "\n",
    "# Define batch size\n",
    "batch_size = 32\n",
    "\n",
    "# Create an empty list to store sentiment labels\n",
    "sentiment_labels = []\n",
    "\n",
    "# Batch processing the sentiment predictions\n",
    "for i in range(0, len(df_post['filtered']), batch_size):\n",
    "    batch_texts = df_post['filtered'][i:i+batch_size].astype(str)\n",
    "    batch_predictions = batch_predict_sentiment(batch_texts, model)\n",
    "    sentiment_labels.extend(batch_predictions)\n",
    "\n",
    "# Assign the sentiment labels to the DataFrame\n",
    "df_post['Sentiment_lbl'] = sentiment_labels\n",
    "\n"
   ]
  },
  {
   "cell_type": "code",
   "execution_count": 38,
   "id": "0fdf1389",
   "metadata": {},
   "outputs": [
    {
     "data": {
      "text/plain": [
       "13165    Zydus Lifesciences, Poly Medicure among 10 sto...\n",
       "13166    Technical breakout: SBI, Zydus Wellness, 5 oth...\n",
       "13167    Stock Radar: Bullish crossover on RSI makes Zy...\n",
       "13168    Zydus Wellness promoters' stake hike point to ...\n",
       "13169    Voltas, Zydus Wellness, 5 other stocks surpass...\n",
       "Name: filtered, dtype: object"
      ]
     },
     "execution_count": 38,
     "metadata": {},
     "output_type": "execute_result"
    }
   ],
   "source": [
    "df_post['filtered'].tail()"
   ]
  },
  {
   "cell_type": "code",
   "execution_count": 47,
   "id": "422af073",
   "metadata": {},
   "outputs": [
    {
     "data": {
      "text/plain": [
       "Sentiment_lbl\n",
       "positive    5267\n",
       "neutral     4607\n",
       "negative    3296\n",
       "Name: count, dtype: int64"
      ]
     },
     "execution_count": 47,
     "metadata": {},
     "output_type": "execute_result"
    }
   ],
   "source": [
    "df_post['Sentiment_lbl'].value_counts()"
   ]
  },
  {
   "cell_type": "code",
   "execution_count": 49,
   "id": "fee6da8f",
   "metadata": {},
   "outputs": [],
   "source": [
    "import numpy as np\n",
    "\n",
    "# Define a function to batch process the sentiment scores\n",
    "def batch_predict_sentiment_scores(texts, model, batch_size=32):\n",
    "    num_batches = len(texts) // batch_size + (len(texts) % batch_size != 0)\n",
    "    sentiment_scores = []\n",
    "    for i in range(num_batches):\n",
    "        batch_texts = texts[i * batch_size: (i + 1) * batch_size]\n",
    "        batch_predictions = [model(text)[0]['score'] for text in batch_texts]\n",
    "        sentiment_scores.extend(batch_predictions)\n",
    "    return sentiment_scores\n",
    "\n",
    "# Define batch size\n",
    "batch_size = 32\n",
    "\n",
    "# Create an empty list to store sentiment scores\n",
    "sentiment_scores = []\n",
    "\n",
    "# Batch processing the sentiment scores\n",
    "for i in range(0, len(df_post['filtered']), batch_size):\n",
    "    batch_texts = df_post['filtered'][i:i+batch_size].astype(str)\n",
    "    batch_scores = batch_predict_sentiment_scores(batch_texts, model)\n",
    "    sentiment_scores.extend(batch_scores)\n",
    "\n",
    "# Assign the sentiment scores to the DataFrame\n",
    "df_post['Sentiment_score'] = sentiment_scores\n"
   ]
  },
  {
   "cell_type": "code",
   "execution_count": 52,
   "id": "fd7417dd",
   "metadata": {},
   "outputs": [
    {
     "data": {
      "text/plain": [
       "Sentiment_scr\n",
       "0.981129    13170\n",
       "Name: count, dtype: int64"
      ]
     },
     "execution_count": 52,
     "metadata": {},
     "output_type": "execute_result"
    }
   ],
   "source": [
    "df_post['Sentiment_scr'].value_counts()"
   ]
  },
  {
   "cell_type": "code",
   "execution_count": 61,
   "id": "97080b28",
   "metadata": {},
   "outputs": [],
   "source": [
    "# Define a function to batch process the sentiment labels and scores\n",
    "def batch_predict_sentiment(texts, model, batch_size=32):\n",
    "    num_batches = len(texts) // batch_size + (len(texts) % batch_size != 0)\n",
    "    sentiment_labels = []\n",
    "    sentiment_scores = []\n",
    "    for i in range(num_batches):\n",
    "        batch_texts = texts[i * batch_size: (i + 1) * batch_size].tolist()  # Ensure texts are in list format\n",
    "        batch_predictions = model(batch_texts)\n",
    "        for prediction in batch_predictions:\n",
    "            if isinstance(prediction, dict) and 'label' in prediction and 'score' in prediction:\n",
    "                sentiment_labels.append(prediction['label'])\n",
    "                sentiment_scores.append(prediction['score'])\n",
    "    return sentiment_labels, sentiment_scores\n",
    "\n",
    "# Define batch size\n",
    "batch_size = 32\n",
    "\n",
    "# Batch processing the sentiment labels and scores\n",
    "sentiment_labels, sentiment_scores = batch_predict_sentiment(df_post['filtered'].astype(str), model, batch_size=batch_size)\n",
    "\n",
    "# Assign the sentiment labels and scores to the DataFrame\n",
    "df_post['Sent_lbl_new'] = sentiment_labels\n",
    "df_post['Sent_scr_new'] = sentiment_scores\n"
   ]
  },
  {
   "cell_type": "code",
   "execution_count": 74,
   "id": "72c44cf5",
   "metadata": {},
   "outputs": [
    {
     "data": {
      "text/html": [
       "<div>\n",
       "<style scoped>\n",
       "    .dataframe tbody tr th:only-of-type {\n",
       "        vertical-align: middle;\n",
       "    }\n",
       "\n",
       "    .dataframe tbody tr th {\n",
       "        vertical-align: top;\n",
       "    }\n",
       "\n",
       "    .dataframe thead th {\n",
       "        text-align: right;\n",
       "    }\n",
       "</style>\n",
       "<table border=\"1\" class=\"dataframe\">\n",
       "  <thead>\n",
       "    <tr style=\"text-align: right;\">\n",
       "      <th></th>\n",
       "      <th>News</th>\n",
       "      <th>filtered</th>\n",
       "      <th>Date</th>\n",
       "      <th>Entity</th>\n",
       "      <th>Symbol</th>\n",
       "      <th>Open</th>\n",
       "      <th>Close</th>\n",
       "      <th>Perc_Change</th>\n",
       "      <th>Sentiment</th>\n",
       "      <th>Sentiment_lbl</th>\n",
       "      <th>Sentiment_scr</th>\n",
       "      <th>Sentiment_score</th>\n",
       "      <th>Sent_lbl_new</th>\n",
       "      <th>Sent_scr_new</th>\n",
       "    </tr>\n",
       "  </thead>\n",
       "  <tbody>\n",
       "    <tr>\n",
       "      <th>0</th>\n",
       "      <td>Technical Breakout Stocks: How to trade HEG, 3...</td>\n",
       "      <td>Technical Breakout Stocks: How to trade HEG, 3...</td>\n",
       "      <td>2023-12-27</td>\n",
       "      <td>3M India</td>\n",
       "      <td>3MINDIA</td>\n",
       "      <td>31127.0</td>\n",
       "      <td>31447.599609</td>\n",
       "      <td>1.029973</td>\n",
       "      <td>NaN</td>\n",
       "      <td>neutral</td>\n",
       "      <td>0.981129</td>\n",
       "      <td>0.999881</td>\n",
       "      <td>neutral</td>\n",
       "      <td>0.999881</td>\n",
       "    </tr>\n",
       "    <tr>\n",
       "      <th>1</th>\n",
       "      <td>Aarti Industries, HDFC AMC among 11 stocks tha...</td>\n",
       "      <td>Aarti Industries, HDFC AMC among 11 stocks tha...</td>\n",
       "      <td>2020-07-01</td>\n",
       "      <td>Aarti Industries</td>\n",
       "      <td>AARTIIND</td>\n",
       "      <td>466.5</td>\n",
       "      <td>465.700012</td>\n",
       "      <td>-0.171487</td>\n",
       "      <td>NaN</td>\n",
       "      <td>neutral</td>\n",
       "      <td>0.981129</td>\n",
       "      <td>0.999881</td>\n",
       "      <td>neutral</td>\n",
       "      <td>0.999881</td>\n",
       "    </tr>\n",
       "  </tbody>\n",
       "</table>\n",
       "</div>"
      ],
      "text/plain": [
       "                                                News  \\\n",
       "0  Technical Breakout Stocks: How to trade HEG, 3...   \n",
       "1  Aarti Industries, HDFC AMC among 11 stocks tha...   \n",
       "\n",
       "                                            filtered        Date  \\\n",
       "0  Technical Breakout Stocks: How to trade HEG, 3...  2023-12-27   \n",
       "1  Aarti Industries, HDFC AMC among 11 stocks tha...  2020-07-01   \n",
       "\n",
       "             Entity    Symbol     Open         Close  Perc_Change  Sentiment  \\\n",
       "0          3M India   3MINDIA  31127.0  31447.599609     1.029973        NaN   \n",
       "1  Aarti Industries  AARTIIND    466.5    465.700012    -0.171487        NaN   \n",
       "\n",
       "  Sentiment_lbl  Sentiment_scr  Sentiment_score Sent_lbl_new  Sent_scr_new  \n",
       "0       neutral       0.981129         0.999881      neutral      0.999881  \n",
       "1       neutral       0.981129         0.999881      neutral      0.999881  "
      ]
     },
     "execution_count": 74,
     "metadata": {},
     "output_type": "execute_result"
    }
   ],
   "source": [
    "df_post.head(2)"
   ]
  },
  {
   "cell_type": "code",
   "execution_count": 83,
   "id": "de653a35",
   "metadata": {},
   "outputs": [
    {
     "data": {
      "text/html": [
       "<div>\n",
       "<style scoped>\n",
       "    .dataframe tbody tr th:only-of-type {\n",
       "        vertical-align: middle;\n",
       "    }\n",
       "\n",
       "    .dataframe tbody tr th {\n",
       "        vertical-align: top;\n",
       "    }\n",
       "\n",
       "    .dataframe thead th {\n",
       "        text-align: right;\n",
       "    }\n",
       "</style>\n",
       "<table border=\"1\" class=\"dataframe\">\n",
       "  <thead>\n",
       "    <tr style=\"text-align: right;\">\n",
       "      <th></th>\n",
       "      <th>News</th>\n",
       "      <th>filtered</th>\n",
       "      <th>Date</th>\n",
       "      <th>Entity</th>\n",
       "      <th>Symbol</th>\n",
       "      <th>Open</th>\n",
       "      <th>Close</th>\n",
       "      <th>Perc_Change</th>\n",
       "      <th>Sent_lbl_new</th>\n",
       "      <th>Sent_scr_new</th>\n",
       "    </tr>\n",
       "  </thead>\n",
       "  <tbody>\n",
       "    <tr>\n",
       "      <th>0</th>\n",
       "      <td>Technical Breakout Stocks: How to trade HEG, 3...</td>\n",
       "      <td>Technical Breakout Stocks: How to trade HEG, 3...</td>\n",
       "      <td>2023-12-27</td>\n",
       "      <td>3M India</td>\n",
       "      <td>3MINDIA</td>\n",
       "      <td>31127.0</td>\n",
       "      <td>31447.599609</td>\n",
       "      <td>1.029973</td>\n",
       "      <td>neutral</td>\n",
       "      <td>0.999881</td>\n",
       "    </tr>\n",
       "    <tr>\n",
       "      <th>1</th>\n",
       "      <td>Aarti Industries, HDFC AMC among 11 stocks tha...</td>\n",
       "      <td>Aarti Industries, HDFC AMC among 11 stocks tha...</td>\n",
       "      <td>2020-07-01</td>\n",
       "      <td>Aarti Industries</td>\n",
       "      <td>AARTIIND</td>\n",
       "      <td>466.5</td>\n",
       "      <td>465.700012</td>\n",
       "      <td>-0.171487</td>\n",
       "      <td>neutral</td>\n",
       "      <td>0.999881</td>\n",
       "    </tr>\n",
       "  </tbody>\n",
       "</table>\n",
       "</div>"
      ],
      "text/plain": [
       "                                                News  \\\n",
       "0  Technical Breakout Stocks: How to trade HEG, 3...   \n",
       "1  Aarti Industries, HDFC AMC among 11 stocks tha...   \n",
       "\n",
       "                                            filtered        Date  \\\n",
       "0  Technical Breakout Stocks: How to trade HEG, 3...  2023-12-27   \n",
       "1  Aarti Industries, HDFC AMC among 11 stocks tha...  2020-07-01   \n",
       "\n",
       "             Entity    Symbol     Open         Close  Perc_Change  \\\n",
       "0          3M India   3MINDIA  31127.0  31447.599609     1.029973   \n",
       "1  Aarti Industries  AARTIIND    466.5    465.700012    -0.171487   \n",
       "\n",
       "  Sent_lbl_new  Sent_scr_new  \n",
       "0      neutral      0.999881  \n",
       "1      neutral      0.999881  "
      ]
     },
     "execution_count": 83,
     "metadata": {},
     "output_type": "execute_result"
    }
   ],
   "source": [
    "\n",
    "df_post.head(2)"
   ]
  },
  {
   "cell_type": "code",
   "execution_count": 84,
   "id": "ba9d5923",
   "metadata": {},
   "outputs": [
    {
     "name": "stdout",
     "output_type": "stream",
     "text": [
      "<class 'pandas.core.frame.DataFrame'>\n",
      "RangeIndex: 13170 entries, 0 to 13169\n",
      "Data columns (total 10 columns):\n",
      " #   Column        Non-Null Count  Dtype  \n",
      "---  ------        --------------  -----  \n",
      " 0   News          13170 non-null  object \n",
      " 1   filtered      13170 non-null  object \n",
      " 2   Date          13170 non-null  object \n",
      " 3   Entity        13170 non-null  object \n",
      " 4   Symbol        13170 non-null  object \n",
      " 5   Open          13141 non-null  float64\n",
      " 6   Close         13141 non-null  float64\n",
      " 7   Perc_Change   13141 non-null  float64\n",
      " 8   Sent_lbl_new  13170 non-null  object \n",
      " 9   Sent_scr_new  13170 non-null  float64\n",
      "dtypes: float64(4), object(6)\n",
      "memory usage: 1.0+ MB\n"
     ]
    }
   ],
   "source": [
    "df_post.info()"
   ]
  },
  {
   "cell_type": "markdown",
   "id": "afa2d0c2",
   "metadata": {},
   "source": [
    "## Hypothesis Testing"
   ]
  },
  {
   "cell_type": "code",
   "execution_count": 65,
   "id": "a0e9af74",
   "metadata": {},
   "outputs": [
    {
     "name": "stdout",
     "output_type": "stream",
     "text": [
      "F-statistic: nan\n",
      "P-value: nan\n",
      "Fail to reject null hypothesis: There is no significant difference in stock price variation among different sentiment labels.\n"
     ]
    }
   ],
   "source": [
    "\n",
    "from scipy.stats import f_oneway\n",
    "\n",
    "\n",
    "# Group data by sentiment label\n",
    "groups = {}\n",
    "for label, group in df_post.groupby('Sent_lbl_new'):\n",
    "    groups[label] = group['Perc_Change']\n",
    "\n",
    "# Perform ANOVA\n",
    "f_statistic, p_value = f_oneway(groups['positive'], groups['negative'], groups['neutral'])\n",
    "\n",
    "# Print results\n",
    "print(\"F-statistic:\", f_statistic)\n",
    "print(\"P-value:\", p_value)\n",
    "\n",
    "# Interpret results\n",
    "alpha = 0.05\n",
    "if p_value < alpha:\n",
    "    print(\"Reject null hypothesis: There is a significant difference in stock price variation among different sentiment labels.\")\n",
    "else:\n",
    "    print(\"Fail to reject null hypothesis: There is no significant difference in stock price variation among different sentiment labels.\")\n"
   ]
  },
  {
   "cell_type": "code",
   "execution_count": 86,
   "id": "464e32d2",
   "metadata": {},
   "outputs": [
    {
     "data": {
      "text/plain": [
       "0        1.029973\n",
       "1       -0.171487\n",
       "2       -1.710155\n",
       "3       -6.577778\n",
       "4        1.665243\n",
       "           ...   \n",
       "13152    2.277437\n",
       "13153    0.808630\n",
       "13159   -0.523192\n",
       "13162    4.015485\n",
       "13166    2.273874\n",
       "Name: Perc_Change, Length: 4607, dtype: float64"
      ]
     },
     "execution_count": 86,
     "metadata": {},
     "output_type": "execute_result"
    }
   ],
   "source": [
    "groups['neutral']"
   ]
  },
  {
   "cell_type": "code",
   "execution_count": 87,
   "id": "fabc5eab",
   "metadata": {},
   "outputs": [],
   "source": [
    "df_post.to_excel('D:\\\\MIT PGDAML\\\\Neural Network\\\\Project\\\\Filtered_News_ET - NextDay_FINAL.xlsx', index=True)"
   ]
  },
  {
   "cell_type": "code",
   "execution_count": null,
   "id": "aaf87f0d",
   "metadata": {},
   "outputs": [],
   "source": []
  }
 ],
 "metadata": {
  "kernelspec": {
   "display_name": "Python 3 (ipykernel)",
   "language": "python",
   "name": "python3"
  },
  "language_info": {
   "codemirror_mode": {
    "name": "ipython",
    "version": 3
   },
   "file_extension": ".py",
   "mimetype": "text/x-python",
   "name": "python",
   "nbconvert_exporter": "python",
   "pygments_lexer": "ipython3",
   "version": "3.9.13"
  }
 },
 "nbformat": 4,
 "nbformat_minor": 5
}
